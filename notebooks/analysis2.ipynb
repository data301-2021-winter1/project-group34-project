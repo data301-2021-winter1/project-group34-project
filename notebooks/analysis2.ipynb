{
 "cells": [
  {
   "cell_type": "markdown",
   "metadata": {},
   "source": [
    "# Sagar Tejay"
   ]
  },
  {
   "cell_type": "markdown",
   "metadata": {},
   "source": [
    "## Research question/analysis\n",
    "\n",
    "For my reasearch question, looking at the content Netflix has released, I will be analyzing who the content is specifically tailored to. This will involve the comparason between the quantity of TV shows and movies showing the favored catagory amongst the two. Then I will be using the trend from the previous graph to compare the quantity of TV shows and movies released over time in ascending order. Then I will be targeting the each rating type (PG/PG-13/R etc.) and will determine whether the content is tailored towards children or adults. "
   ]
  },
  {
   "cell_type": "code",
   "execution_count": 2,
   "metadata": {},
   "outputs": [],
   "source": [
    "#Import Statments \n",
    "import pandas as pd\n",
    "import numpy as np\n",
    "import seaborn as sns\n",
    "import matplotlib.pylab as plt"
   ]
  },
  {
   "cell_type": "code",
   "execution_count": 3,
   "metadata": {},
   "outputs": [],
   "source": [
    "ds = pd.read_csv(\"H:/Documents_2/Data_301v2/project-group34-project/netflix_titles.csv\")"
   ]
  },
  {
   "cell_type": "markdown",
   "metadata": {},
   "source": [
    "# Data Analysis Pipeline"
   ]
  },
  {
   "cell_type": "markdown",
   "metadata": {},
   "source": [
    "Here I've taken several common steps into data analysis pipelining such as dropping any rows that contain any missing values (NA), renaming all columns keeping the dataset clean and organized, removing the description column as it has no use to myself and my question, and lastly ordering it by release year."
   ]
  },
  {
   "cell_type": "code",
   "execution_count": 4,
   "metadata": {},
   "outputs": [
    {
     "data": {
      "text/html": [
       "<div>\n",
       "<style scoped>\n",
       "    .dataframe tbody tr th:only-of-type {\n",
       "        vertical-align: middle;\n",
       "    }\n",
       "\n",
       "    .dataframe tbody tr th {\n",
       "        vertical-align: top;\n",
       "    }\n",
       "\n",
       "    .dataframe thead th {\n",
       "        text-align: right;\n",
       "    }\n",
       "</style>\n",
       "<table border=\"1\" class=\"dataframe\">\n",
       "  <thead>\n",
       "    <tr style=\"text-align: right;\">\n",
       "      <th></th>\n",
       "      <th>Show ID</th>\n",
       "      <th>Type</th>\n",
       "      <th>Title</th>\n",
       "      <th>Director</th>\n",
       "      <th>Cast</th>\n",
       "      <th>Country</th>\n",
       "      <th>Date Added</th>\n",
       "      <th>Release Year</th>\n",
       "      <th>Rating</th>\n",
       "      <th>Duration</th>\n",
       "      <th>Genre</th>\n",
       "    </tr>\n",
       "  </thead>\n",
       "  <tbody>\n",
       "    <tr>\n",
       "      <th>4901</th>\n",
       "      <td>s8206</td>\n",
       "      <td>Movie</td>\n",
       "      <td>The Battle of Midway</td>\n",
       "      <td>John Ford</td>\n",
       "      <td>Henry Fonda, Jane Darwell</td>\n",
       "      <td>United States</td>\n",
       "      <td>March 31, 2017</td>\n",
       "      <td>1942</td>\n",
       "      <td>TV-14</td>\n",
       "      <td>18 min</td>\n",
       "      <td>Classic Movies, Documentaries</td>\n",
       "    </tr>\n",
       "    <tr>\n",
       "      <th>5214</th>\n",
       "      <td>s8641</td>\n",
       "      <td>Movie</td>\n",
       "      <td>Tunisian Victory</td>\n",
       "      <td>Frank Capra, John Huston, Hugh Stewart, Roy Bo...</td>\n",
       "      <td>Burgess Meredith</td>\n",
       "      <td>United States, United Kingdom</td>\n",
       "      <td>March 31, 2017</td>\n",
       "      <td>1944</td>\n",
       "      <td>TV-14</td>\n",
       "      <td>76 min</td>\n",
       "      <td>Classic Movies, Documentaries</td>\n",
       "    </tr>\n",
       "    <tr>\n",
       "      <th>4220</th>\n",
       "      <td>s7220</td>\n",
       "      <td>Movie</td>\n",
       "      <td>Know Your Enemy - Japan</td>\n",
       "      <td>Frank Capra, Joris Ivens</td>\n",
       "      <td>Walter Huston, Dana Andrews</td>\n",
       "      <td>United States</td>\n",
       "      <td>March 31, 2017</td>\n",
       "      <td>1945</td>\n",
       "      <td>TV-14</td>\n",
       "      <td>63 min</td>\n",
       "      <td>Classic Movies, Documentaries</td>\n",
       "    </tr>\n",
       "    <tr>\n",
       "      <th>4266</th>\n",
       "      <td>s7295</td>\n",
       "      <td>Movie</td>\n",
       "      <td>Let There Be Light</td>\n",
       "      <td>John Huston</td>\n",
       "      <td>Walter Huston</td>\n",
       "      <td>United States</td>\n",
       "      <td>March 31, 2017</td>\n",
       "      <td>1946</td>\n",
       "      <td>TV-PG</td>\n",
       "      <td>58 min</td>\n",
       "      <td>Classic Movies, Documentaries</td>\n",
       "    </tr>\n",
       "    <tr>\n",
       "      <th>5177</th>\n",
       "      <td>s8588</td>\n",
       "      <td>Movie</td>\n",
       "      <td>Thunderbolt</td>\n",
       "      <td>William Wyler, John Sturges</td>\n",
       "      <td>James Stewart, Lloyd Bridges</td>\n",
       "      <td>United States</td>\n",
       "      <td>March 31, 2017</td>\n",
       "      <td>1947</td>\n",
       "      <td>TV-PG</td>\n",
       "      <td>42 min</td>\n",
       "      <td>Classic Movies, Documentaries</td>\n",
       "    </tr>\n",
       "    <tr>\n",
       "      <th>...</th>\n",
       "      <td>...</td>\n",
       "      <td>...</td>\n",
       "      <td>...</td>\n",
       "      <td>...</td>\n",
       "      <td>...</td>\n",
       "      <td>...</td>\n",
       "      <td>...</td>\n",
       "      <td>...</td>\n",
       "      <td>...</td>\n",
       "      <td>...</td>\n",
       "      <td>...</td>\n",
       "    </tr>\n",
       "    <tr>\n",
       "      <th>546</th>\n",
       "      <td>s1152</td>\n",
       "      <td>Movie</td>\n",
       "      <td>Octonauts &amp; the Ring of Fire</td>\n",
       "      <td>Blair Simmons</td>\n",
       "      <td>Simon Greenall, Rob Rackstraw, Jo Wyatt, Paul ...</td>\n",
       "      <td>China, United Kingdom</td>\n",
       "      <td>March 30, 2021</td>\n",
       "      <td>2021</td>\n",
       "      <td>TV-Y</td>\n",
       "      <td>73 min</td>\n",
       "      <td>Children &amp; Family Movies</td>\n",
       "    </tr>\n",
       "    <tr>\n",
       "      <th>389</th>\n",
       "      <td>s882</td>\n",
       "      <td>Movie</td>\n",
       "      <td>I Am All Girls</td>\n",
       "      <td>Donovan Marsh</td>\n",
       "      <td>Erica Wessels, Hlubi Mboya, Deon Lotz, Brendon...</td>\n",
       "      <td>South Africa</td>\n",
       "      <td>May 14, 2021</td>\n",
       "      <td>2021</td>\n",
       "      <td>TV-MA</td>\n",
       "      <td>107 min</td>\n",
       "      <td>Dramas, International Movies, Thrillers</td>\n",
       "    </tr>\n",
       "    <tr>\n",
       "      <th>549</th>\n",
       "      <td>s1157</td>\n",
       "      <td>Movie</td>\n",
       "      <td>A Week Away</td>\n",
       "      <td>Roman White</td>\n",
       "      <td>Kevin Quinn, Bailee Madison, Jahbril Cook, Kat...</td>\n",
       "      <td>United States</td>\n",
       "      <td>March 26, 2021</td>\n",
       "      <td>2021</td>\n",
       "      <td>TV-PG</td>\n",
       "      <td>98 min</td>\n",
       "      <td>Children &amp; Family Movies, Faith &amp; Spirituality...</td>\n",
       "    </tr>\n",
       "    <tr>\n",
       "      <th>692</th>\n",
       "      <td>s1413</td>\n",
       "      <td>Movie</td>\n",
       "      <td>Wish You</td>\n",
       "      <td>Sung Do-jun</td>\n",
       "      <td>Kang In-soo, Lee Sang, Soo-bin</td>\n",
       "      <td>South Korea</td>\n",
       "      <td>January 15, 2021</td>\n",
       "      <td>2021</td>\n",
       "      <td>TV-PG</td>\n",
       "      <td>102 min</td>\n",
       "      <td>Dramas, International Movies, LGBTQ Movies</td>\n",
       "    </tr>\n",
       "    <tr>\n",
       "      <th>628</th>\n",
       "      <td>s1305</td>\n",
       "      <td>Movie</td>\n",
       "      <td>Animals on the Loose: A You vs. Wild Movie</td>\n",
       "      <td>Ben Simms</td>\n",
       "      <td>Bear Grylls</td>\n",
       "      <td>United States</td>\n",
       "      <td>February 16, 2021</td>\n",
       "      <td>2021</td>\n",
       "      <td>TV-PG</td>\n",
       "      <td>139 min</td>\n",
       "      <td>Children &amp; Family Movies</td>\n",
       "    </tr>\n",
       "  </tbody>\n",
       "</table>\n",
       "<p>5332 rows × 11 columns</p>\n",
       "</div>"
      ],
      "text/plain": [
       "     Show ID   Type                                       Title  \\\n",
       "4901   s8206  Movie                        The Battle of Midway   \n",
       "5214   s8641  Movie                            Tunisian Victory   \n",
       "4220   s7220  Movie                     Know Your Enemy - Japan   \n",
       "4266   s7295  Movie                          Let There Be Light   \n",
       "5177   s8588  Movie                                 Thunderbolt   \n",
       "...      ...    ...                                         ...   \n",
       "546    s1152  Movie                Octonauts & the Ring of Fire   \n",
       "389     s882  Movie                              I Am All Girls   \n",
       "549    s1157  Movie                                 A Week Away   \n",
       "692    s1413  Movie                                    Wish You   \n",
       "628    s1305  Movie  Animals on the Loose: A You vs. Wild Movie   \n",
       "\n",
       "                                               Director  \\\n",
       "4901                                          John Ford   \n",
       "5214  Frank Capra, John Huston, Hugh Stewart, Roy Bo...   \n",
       "4220                           Frank Capra, Joris Ivens   \n",
       "4266                                        John Huston   \n",
       "5177                        William Wyler, John Sturges   \n",
       "...                                                 ...   \n",
       "546                                       Blair Simmons   \n",
       "389                                       Donovan Marsh   \n",
       "549                                         Roman White   \n",
       "692                                         Sung Do-jun   \n",
       "628                                           Ben Simms   \n",
       "\n",
       "                                                   Cast  \\\n",
       "4901                          Henry Fonda, Jane Darwell   \n",
       "5214                                   Burgess Meredith   \n",
       "4220                        Walter Huston, Dana Andrews   \n",
       "4266                                      Walter Huston   \n",
       "5177                       James Stewart, Lloyd Bridges   \n",
       "...                                                 ...   \n",
       "546   Simon Greenall, Rob Rackstraw, Jo Wyatt, Paul ...   \n",
       "389   Erica Wessels, Hlubi Mboya, Deon Lotz, Brendon...   \n",
       "549   Kevin Quinn, Bailee Madison, Jahbril Cook, Kat...   \n",
       "692                      Kang In-soo, Lee Sang, Soo-bin   \n",
       "628                                         Bear Grylls   \n",
       "\n",
       "                            Country         Date Added  Release Year Rating  \\\n",
       "4901                  United States     March 31, 2017          1942  TV-14   \n",
       "5214  United States, United Kingdom     March 31, 2017          1944  TV-14   \n",
       "4220                  United States     March 31, 2017          1945  TV-14   \n",
       "4266                  United States     March 31, 2017          1946  TV-PG   \n",
       "5177                  United States     March 31, 2017          1947  TV-PG   \n",
       "...                             ...                ...           ...    ...   \n",
       "546           China, United Kingdom     March 30, 2021          2021   TV-Y   \n",
       "389                    South Africa       May 14, 2021          2021  TV-MA   \n",
       "549                   United States     March 26, 2021          2021  TV-PG   \n",
       "692                     South Korea   January 15, 2021          2021  TV-PG   \n",
       "628                   United States  February 16, 2021          2021  TV-PG   \n",
       "\n",
       "     Duration                                              Genre  \n",
       "4901   18 min                      Classic Movies, Documentaries  \n",
       "5214   76 min                      Classic Movies, Documentaries  \n",
       "4220   63 min                      Classic Movies, Documentaries  \n",
       "4266   58 min                      Classic Movies, Documentaries  \n",
       "5177   42 min                      Classic Movies, Documentaries  \n",
       "...       ...                                                ...  \n",
       "546    73 min                           Children & Family Movies  \n",
       "389   107 min            Dramas, International Movies, Thrillers  \n",
       "549    98 min  Children & Family Movies, Faith & Spirituality...  \n",
       "692   102 min         Dramas, International Movies, LGBTQ Movies  \n",
       "628   139 min                           Children & Family Movies  \n",
       "\n",
       "[5332 rows x 11 columns]"
      ]
     },
     "execution_count": 4,
     "metadata": {},
     "output_type": "execute_result"
    }
   ],
   "source": [
    "ds_clean = (\n",
    "    ds.dropna()\n",
    "    .rename( columns = {\"show_id\": \"Show ID\", \"type\": \"Type\", \"title\": \"Title\", \"director\": \"Director\", \"cast\": \"Cast\", \"country\": \"Country\", \"date_added\": \"Date Added\", \"release_year\": \"Release Year\",\n",
    "                       \"rating\": \"Rating\", \"duration\": \"Duration\", \"listed_in\": \"Genre\"})\n",
    "    .reset_index(drop = True)\n",
    "    .drop( [\"description\"], axis = 1)\n",
    "    .sort_values( by = \"Release Year\", ascending = True) )\n",
    "ds_clean"
   ]
  },
  {
   "cell_type": "markdown",
   "metadata": {},
   "source": [
    "# Method Chaining"
   ]
  },
  {
   "cell_type": "markdown",
   "metadata": {},
   "source": [
    "Using the function load_and_process which automates the analysis pipeline process"
   ]
  },
  {
   "cell_type": "code",
   "execution_count": 6,
   "metadata": {},
   "outputs": [
    {
     "data": {
      "text/html": [
       "<div>\n",
       "<style scoped>\n",
       "    .dataframe tbody tr th:only-of-type {\n",
       "        vertical-align: middle;\n",
       "    }\n",
       "\n",
       "    .dataframe tbody tr th {\n",
       "        vertical-align: top;\n",
       "    }\n",
       "\n",
       "    .dataframe thead th {\n",
       "        text-align: right;\n",
       "    }\n",
       "</style>\n",
       "<table border=\"1\" class=\"dataframe\">\n",
       "  <thead>\n",
       "    <tr style=\"text-align: right;\">\n",
       "      <th></th>\n",
       "      <th>Show ID</th>\n",
       "      <th>Type</th>\n",
       "      <th>Title</th>\n",
       "      <th>Director</th>\n",
       "      <th>Cast</th>\n",
       "      <th>Country</th>\n",
       "      <th>Date Added</th>\n",
       "      <th>Release Year</th>\n",
       "      <th>Rating</th>\n",
       "      <th>Duration</th>\n",
       "      <th>Genre</th>\n",
       "    </tr>\n",
       "  </thead>\n",
       "  <tbody>\n",
       "    <tr>\n",
       "      <th>2</th>\n",
       "      <td>s10</td>\n",
       "      <td>Movie</td>\n",
       "      <td>The Starling</td>\n",
       "      <td>Theodore Melfi</td>\n",
       "      <td>Melissa McCarthy, Chris O'Dowd, Kevin Kline, T...</td>\n",
       "      <td>United States</td>\n",
       "      <td>September 24, 2021</td>\n",
       "      <td>2021</td>\n",
       "      <td>PG-13</td>\n",
       "      <td>104 min</td>\n",
       "      <td>Comedies, Dramas</td>\n",
       "    </tr>\n",
       "    <tr>\n",
       "      <th>462</th>\n",
       "      <td>s1000</td>\n",
       "      <td>Movie</td>\n",
       "      <td>Stowaway</td>\n",
       "      <td>Joe Penna</td>\n",
       "      <td>Anna Kendrick, Toni Collette, Daniel Dae Kim, ...</td>\n",
       "      <td>Germany, United States</td>\n",
       "      <td>April 22, 2021</td>\n",
       "      <td>2021</td>\n",
       "      <td>TV-MA</td>\n",
       "      <td>116 min</td>\n",
       "      <td>Dramas, International Movies, Thrillers</td>\n",
       "    </tr>\n",
       "    <tr>\n",
       "      <th>463</th>\n",
       "      <td>s1002</td>\n",
       "      <td>Movie</td>\n",
       "      <td>Oloibiri</td>\n",
       "      <td>Curtis Graham</td>\n",
       "      <td>Olu Jacobs, Richard Mofe-Damijo, William R. Mo...</td>\n",
       "      <td>Canada, Nigeria, United States</td>\n",
       "      <td>April 21, 2021</td>\n",
       "      <td>2015</td>\n",
       "      <td>TV-14</td>\n",
       "      <td>86 min</td>\n",
       "      <td>Dramas, International Movies, Thrillers</td>\n",
       "    </tr>\n",
       "    <tr>\n",
       "      <th>464</th>\n",
       "      <td>s1003</td>\n",
       "      <td>Movie</td>\n",
       "      <td>Tell Me When</td>\n",
       "      <td>Gerardo Gatica</td>\n",
       "      <td>Jesús Zavala, Ximena Romo, Verónica Castro, Jo...</td>\n",
       "      <td>Mexico</td>\n",
       "      <td>April 21, 2021</td>\n",
       "      <td>2021</td>\n",
       "      <td>TV-MA</td>\n",
       "      <td>97 min</td>\n",
       "      <td>Comedies, International Movies</td>\n",
       "    </tr>\n",
       "    <tr>\n",
       "      <th>465</th>\n",
       "      <td>s1014</td>\n",
       "      <td>Movie</td>\n",
       "      <td>Miss Sloane</td>\n",
       "      <td>John Madden</td>\n",
       "      <td>Jessica Chastain, Mark Strong, Gugu Mbatha-Raw...</td>\n",
       "      <td>France, United States, United Kingdom, Canada</td>\n",
       "      <td>April 19, 2021</td>\n",
       "      <td>2016</td>\n",
       "      <td>R</td>\n",
       "      <td>132 min</td>\n",
       "      <td>Thrillers</td>\n",
       "    </tr>\n",
       "    <tr>\n",
       "      <th>...</th>\n",
       "      <td>...</td>\n",
       "      <td>...</td>\n",
       "      <td>...</td>\n",
       "      <td>...</td>\n",
       "      <td>...</td>\n",
       "      <td>...</td>\n",
       "      <td>...</td>\n",
       "      <td>...</td>\n",
       "      <td>...</td>\n",
       "      <td>...</td>\n",
       "      <td>...</td>\n",
       "    </tr>\n",
       "    <tr>\n",
       "      <th>457</th>\n",
       "      <td>s991</td>\n",
       "      <td>Movie</td>\n",
       "      <td>Niyazi Gül Dörtnala</td>\n",
       "      <td>Hakan Algül</td>\n",
       "      <td>Ata Demirer, Demet Akbağ, Şebnem Bozoklu, Leve...</td>\n",
       "      <td>Turkey</td>\n",
       "      <td>April 23, 2021</td>\n",
       "      <td>2015</td>\n",
       "      <td>TV-MA</td>\n",
       "      <td>102 min</td>\n",
       "      <td>Comedies, International Movies</td>\n",
       "    </tr>\n",
       "    <tr>\n",
       "      <th>458</th>\n",
       "      <td>s992</td>\n",
       "      <td>Movie</td>\n",
       "      <td>One Like It</td>\n",
       "      <td>Marwan Nabil</td>\n",
       "      <td>Riham Abdel Ghafour, Mohammed Aly Rizk, Hazem ...</td>\n",
       "      <td>Egypt</td>\n",
       "      <td>April 23, 2021</td>\n",
       "      <td>2020</td>\n",
       "      <td>TV-G</td>\n",
       "      <td>15 min</td>\n",
       "      <td>Dramas, Independent Movies, International Movies</td>\n",
       "    </tr>\n",
       "    <tr>\n",
       "      <th>459</th>\n",
       "      <td>s995</td>\n",
       "      <td>Movie</td>\n",
       "      <td>This Lady Called Life</td>\n",
       "      <td>Kayode Kasum</td>\n",
       "      <td>Bisola Aiyeola, Efa Iwara, Molawa Onajobi, Tin...</td>\n",
       "      <td>Nigeria</td>\n",
       "      <td>April 23, 2021</td>\n",
       "      <td>2020</td>\n",
       "      <td>TV-14</td>\n",
       "      <td>120 min</td>\n",
       "      <td>Dramas, International Movies, Romantic Movies</td>\n",
       "    </tr>\n",
       "    <tr>\n",
       "      <th>460</th>\n",
       "      <td>s996</td>\n",
       "      <td>Movie</td>\n",
       "      <td>Vizontele</td>\n",
       "      <td>Yılmaz Erdoğan, Ömer Faruk Sorak</td>\n",
       "      <td>Yılmaz Erdoğan, Demet Akbağ, Altan Erkekli, Ce...</td>\n",
       "      <td>Turkey</td>\n",
       "      <td>April 23, 2021</td>\n",
       "      <td>2001</td>\n",
       "      <td>TV-MA</td>\n",
       "      <td>106 min</td>\n",
       "      <td>Comedies, Dramas, International Movies</td>\n",
       "    </tr>\n",
       "    <tr>\n",
       "      <th>461</th>\n",
       "      <td>s997</td>\n",
       "      <td>Movie</td>\n",
       "      <td>HOMUNCULUS</td>\n",
       "      <td>Takashi Shimizu</td>\n",
       "      <td>Go Ayano, Ryo Narita, Yukino Kishii, Anna Ishi...</td>\n",
       "      <td>Japan</td>\n",
       "      <td>April 22, 2021</td>\n",
       "      <td>2021</td>\n",
       "      <td>TV-MA</td>\n",
       "      <td>116 min</td>\n",
       "      <td>Horror Movies, International Movies, Thrillers</td>\n",
       "    </tr>\n",
       "  </tbody>\n",
       "</table>\n",
       "<p>5332 rows × 11 columns</p>\n",
       "</div>"
      ],
      "text/plain": [
       "    Show ID   Type                  Title                          Director  \\\n",
       "2       s10  Movie           The Starling                    Theodore Melfi   \n",
       "462   s1000  Movie               Stowaway                         Joe Penna   \n",
       "463   s1002  Movie               Oloibiri                     Curtis Graham   \n",
       "464   s1003  Movie           Tell Me When                    Gerardo Gatica   \n",
       "465   s1014  Movie            Miss Sloane                       John Madden   \n",
       "..      ...    ...                    ...                               ...   \n",
       "457    s991  Movie    Niyazi Gül Dörtnala                       Hakan Algül   \n",
       "458    s992  Movie            One Like It                      Marwan Nabil   \n",
       "459    s995  Movie  This Lady Called Life                      Kayode Kasum   \n",
       "460    s996  Movie              Vizontele  Yılmaz Erdoğan, Ömer Faruk Sorak   \n",
       "461    s997  Movie             HOMUNCULUS                   Takashi Shimizu   \n",
       "\n",
       "                                                  Cast  \\\n",
       "2    Melissa McCarthy, Chris O'Dowd, Kevin Kline, T...   \n",
       "462  Anna Kendrick, Toni Collette, Daniel Dae Kim, ...   \n",
       "463  Olu Jacobs, Richard Mofe-Damijo, William R. Mo...   \n",
       "464  Jesús Zavala, Ximena Romo, Verónica Castro, Jo...   \n",
       "465  Jessica Chastain, Mark Strong, Gugu Mbatha-Raw...   \n",
       "..                                                 ...   \n",
       "457  Ata Demirer, Demet Akbağ, Şebnem Bozoklu, Leve...   \n",
       "458  Riham Abdel Ghafour, Mohammed Aly Rizk, Hazem ...   \n",
       "459  Bisola Aiyeola, Efa Iwara, Molawa Onajobi, Tin...   \n",
       "460  Yılmaz Erdoğan, Demet Akbağ, Altan Erkekli, Ce...   \n",
       "461  Go Ayano, Ryo Narita, Yukino Kishii, Anna Ishi...   \n",
       "\n",
       "                                           Country          Date Added  \\\n",
       "2                                    United States  September 24, 2021   \n",
       "462                         Germany, United States      April 22, 2021   \n",
       "463                 Canada, Nigeria, United States      April 21, 2021   \n",
       "464                                         Mexico      April 21, 2021   \n",
       "465  France, United States, United Kingdom, Canada      April 19, 2021   \n",
       "..                                             ...                 ...   \n",
       "457                                         Turkey      April 23, 2021   \n",
       "458                                          Egypt      April 23, 2021   \n",
       "459                                        Nigeria      April 23, 2021   \n",
       "460                                         Turkey      April 23, 2021   \n",
       "461                                          Japan      April 22, 2021   \n",
       "\n",
       "     Release Year Rating Duration  \\\n",
       "2            2021  PG-13  104 min   \n",
       "462          2021  TV-MA  116 min   \n",
       "463          2015  TV-14   86 min   \n",
       "464          2021  TV-MA   97 min   \n",
       "465          2016      R  132 min   \n",
       "..            ...    ...      ...   \n",
       "457          2015  TV-MA  102 min   \n",
       "458          2020   TV-G   15 min   \n",
       "459          2020  TV-14  120 min   \n",
       "460          2001  TV-MA  106 min   \n",
       "461          2021  TV-MA  116 min   \n",
       "\n",
       "                                                Genre  \n",
       "2                                    Comedies, Dramas  \n",
       "462           Dramas, International Movies, Thrillers  \n",
       "463           Dramas, International Movies, Thrillers  \n",
       "464                    Comedies, International Movies  \n",
       "465                                         Thrillers  \n",
       "..                                                ...  \n",
       "457                    Comedies, International Movies  \n",
       "458  Dramas, Independent Movies, International Movies  \n",
       "459     Dramas, International Movies, Romantic Movies  \n",
       "460            Comedies, Dramas, International Movies  \n",
       "461    Horror Movies, International Movies, Thrillers  \n",
       "\n",
       "[5332 rows x 11 columns]"
      ]
     },
     "execution_count": 6,
     "metadata": {},
     "output_type": "execute_result"
    }
   ],
   "source": [
    "from methods import projectFunctions\n",
    "df = projectFunctions.load_and_process(\"H:/Documents_2/Data_301v2/project-group34-project/netflix_titles.csv\")\n",
    "df"
   ]
  },
  {
   "cell_type": "markdown",
   "metadata": {},
   "source": [
    "## TV Shows vs Movies"
   ]
  },
  {
   "cell_type": "code",
   "execution_count": 14,
   "metadata": {},
   "outputs": [
    {
     "data": {
      "text/plain": [
       "<AxesSubplot:xlabel='Type', ylabel='count'>"
      ]
     },
     "execution_count": 14,
     "metadata": {},
     "output_type": "execute_result"
    },
    {
     "data": {
      "image/png": "[encoded data removed]",
      "text/plain": [
       "<Figure size 360x576 with 1 Axes>"
      ]
     },
     "metadata": {
      "needs_background": "light"
     },
     "output_type": "display_data"
    }
   ],
   "source": [
    "plt.figure(figsize=(5,8))\n",
    "sns.countplot(x='Type',data=ds_clean)"
   ]
  },
  {
   "cell_type": "markdown",
   "metadata": {},
   "source": [
    "Here you can see Netflix is a lot more movie oriented opposed to tv shows which clearly shows that it is tailored towards people that enjoy movies over tv shows."
   ]
  },
  {
   "cell_type": "markdown",
   "metadata": {},
   "source": [
    "## Release of Movie vs TV Shows Over Time"
   ]
  },
  {
   "cell_type": "markdown",
   "metadata": {},
   "source": [
    "After analyzing both graphs shown below, it is clear as day that one could say that Netflix is more tailored towards movie watchers over tv shows although that could take a turn over time considering their newly releases of 'Netflix Originals'."
   ]
  },
  {
   "cell_type": "markdown",
   "metadata": {},
   "source": [
    "### Release of Movies Over Time"
   ]
  },
  {
   "cell_type": "code",
   "execution_count": 50,
   "metadata": {},
   "outputs": [
    {
     "data": {
      "text/plain": [
       "<AxesSubplot:xlabel='Release Year', ylabel='count'>"
      ]
     },
     "execution_count": 50,
     "metadata": {},
     "output_type": "execute_result"
    },
    {
     "data": {
      "image/png": "[encoded data removed]",
      "text/plain": [
       "<Figure size 2880x1080 with 1 Axes>"
      ]
     },
     "metadata": {},
     "output_type": "display_data"
    }
   ],
   "source": [
    "time_graph = ds_clean.loc[(ds_clean['Release Year'] >= 1997)]\n",
    "time_graph2 = time_graph.loc[(ds_clean['Type'] == 'Movie')]\n",
    "plt.figure(figsize=(40,15))\n",
    "sns.set(font_scale = 2)\n",
    "sns.countplot(x='Release Year', data=time_graph2)"
   ]
  },
  {
   "cell_type": "markdown",
   "metadata": {},
   "source": [
    "From the year 1997 when Netflix launched, you can cleary see the gradual increase of movies that were added in the most recent years with the exception of the year 2021 as it is incomplete."
   ]
  },
  {
   "cell_type": "markdown",
   "metadata": {},
   "source": [
    "### Release of TV Shows Over Time"
   ]
  },
  {
   "cell_type": "code",
   "execution_count": 58,
   "metadata": {},
   "outputs": [
    {
     "data": {
      "text/plain": [
       "<AxesSubplot:xlabel='Release Year', ylabel='count'>"
      ]
     },
     "execution_count": 58,
     "metadata": {},
     "output_type": "execute_result"
    },
    {
     "data": {
      "image/png": "[encoded data removed]",
      "text/plain": [
       "<Figure size 2880x1080 with 1 Axes>"
      ]
     },
     "metadata": {},
     "output_type": "display_data"
    }
   ],
   "source": [
    "time_graph = ds_clean.loc[(ds_clean['Release Year'] >= 1997)]\n",
    "time_graph2 = time_graph.loc[(ds_clean['Type'] == 'TV Show')]\n",
    "plt.figure(figsize=(40,15))\n",
    "sns.set(font_scale = 2)\n",
    "#y = [0, 100, 200, 300, 400, 500, 600]\n",
    "#time_graph2.set_yticks(600)\n",
    "#time_graph2.set_yticklabels(Count)\n",
    "#time_graph2.set(ylim=(0, 600))\n",
    "plt.ylim(0, 600)\n",
    "sns.countplot(x='Release Year', data=time_graph2)"
   ]
  },
  {
   "cell_type": "markdown",
   "metadata": {},
   "source": [
    "From this graph, you can see that Netflix shows a slight trend in adding more and more tv shows, although that number is no where near the number of movies they added in those years."
   ]
  },
  {
   "cell_type": "markdown",
   "metadata": {},
   "source": [
    "## Rating Comparisons"
   ]
  },
  {
   "cell_type": "code",
   "execution_count": null,
   "metadata": {},
   "outputs": [],
   "source": []
  }
 ],
 "metadata": {
  "kernelspec": {
   "display_name": "Python 3 (ipykernel)",
   "language": "python",
   "name": "python3"
  },
  "language_info": {
   "codemirror_mode": {
    "name": "ipython",
    "version": 3
   },
   "file_extension": ".py",
   "mimetype": "text/x-python",
   "name": "python",
   "nbconvert_exporter": "python",
   "pygments_lexer": "ipython3",
   "version": "3.9.5"
  }
 },
 "nbformat": 4,
 "nbformat_minor": 4
}
