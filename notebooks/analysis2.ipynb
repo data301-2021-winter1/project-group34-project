{
 "cells": [
  {
   "cell_type": "markdown",
   "metadata": {},
   "source": [
    "# Sagar Tejay"
   ]
  },
  {
   "cell_type": "markdown",
   "metadata": {},
   "source": [
    "## Research question/analysis\n",
    "\n",
    "For my reasearch question, looking at the content Netflix has released, I will be analyzing who the content is specifically tailored to. This will involve the comparason between the quantity of TV shows and movies showing the favored catagory amongst the two. Then I will be using the trend from the previous graph to compare the quantity of TV shows and movies released over time in ascending order. Then I will be targeting the each rating type (PG/PG-13/R etc.) and will determine whether the content is tailored towards children or adults. "
   ]
  },
  {
   "cell_type": "code",
   "execution_count": 1,
   "metadata": {},
   "outputs": [],
   "source": [
    "#Import Statments \n",
    "import pandas as pd\n",
    "import numpy as np\n",
    "import seaborn as sns\n",
    "import matplotlib.pylab as plt"
   ]
  },
  {
   "cell_type": "code",
   "execution_count": 3,
   "metadata": {},
   "outputs": [],
   "source": [
    "ds = pd.read_csv(\"../data/raw/netflix_titles.csv\")"
   ]
  },
  {
   "cell_type": "markdown",
   "metadata": {},
   "source": [
    "# Data Analysis Pipeline"
   ]
  },
  {
   "cell_type": "markdown",
   "metadata": {},
   "source": [
    "Here I've taken several common steps into data analysis pipelining such as dropping any rows that contain any missing values (NA), renaming all columns keeping the dataset clean and organized, removing the description column as it has no use to myself and my question, and lastly ordering it by release year.  ."
   ]
  },
  {
   "cell_type": "code",
   "execution_count": 4,
   "metadata": {},
   "outputs": [
    {
     "data": {
      "text/html": [
       "<div>\n",
       "<style scoped>\n",
       "    .dataframe tbody tr th:only-of-type {\n",
       "        vertical-align: middle;\n",
       "    }\n",
       "\n",
       "    .dataframe tbody tr th {\n",
       "        vertical-align: top;\n",
       "    }\n",
       "\n",
       "    .dataframe thead th {\n",
       "        text-align: right;\n",
       "    }\n",
       "</style>\n",
       "<table border=\"1\" class=\"dataframe\">\n",
       "  <thead>\n",
       "    <tr style=\"text-align: right;\">\n",
       "      <th></th>\n",
       "      <th>Show ID</th>\n",
       "      <th>Type</th>\n",
       "      <th>Title</th>\n",
       "      <th>Director</th>\n",
       "      <th>Cast</th>\n",
       "      <th>Country</th>\n",
       "      <th>Date Added</th>\n",
       "      <th>Release Year</th>\n",
       "      <th>Rating</th>\n",
       "      <th>Duration</th>\n",
       "      <th>Genre</th>\n",
       "    </tr>\n",
       "  </thead>\n",
       "  <tbody>\n",
       "    <tr>\n",
       "      <th>4901</th>\n",
       "      <td>s8206</td>\n",
       "      <td>Movie</td>\n",
       "      <td>The Battle of Midway</td>\n",
       "      <td>John Ford</td>\n",
       "      <td>Henry Fonda, Jane Darwell</td>\n",
       "      <td>United States</td>\n",
       "      <td>March 31, 2017</td>\n",
       "      <td>1942</td>\n",
       "      <td>TV-14</td>\n",
       "      <td>18 min</td>\n",
       "      <td>Classic Movies, Documentaries</td>\n",
       "    </tr>\n",
       "    <tr>\n",
       "      <th>5214</th>\n",
       "      <td>s8641</td>\n",
       "      <td>Movie</td>\n",
       "      <td>Tunisian Victory</td>\n",
       "      <td>Frank Capra, John Huston, Hugh Stewart, Roy Bo...</td>\n",
       "      <td>Burgess Meredith</td>\n",
       "      <td>United States, United Kingdom</td>\n",
       "      <td>March 31, 2017</td>\n",
       "      <td>1944</td>\n",
       "      <td>TV-14</td>\n",
       "      <td>76 min</td>\n",
       "      <td>Classic Movies, Documentaries</td>\n",
       "    </tr>\n",
       "    <tr>\n",
       "      <th>4220</th>\n",
       "      <td>s7220</td>\n",
       "      <td>Movie</td>\n",
       "      <td>Know Your Enemy - Japan</td>\n",
       "      <td>Frank Capra, Joris Ivens</td>\n",
       "      <td>Walter Huston, Dana Andrews</td>\n",
       "      <td>United States</td>\n",
       "      <td>March 31, 2017</td>\n",
       "      <td>1945</td>\n",
       "      <td>TV-14</td>\n",
       "      <td>63 min</td>\n",
       "      <td>Classic Movies, Documentaries</td>\n",
       "    </tr>\n",
       "    <tr>\n",
       "      <th>4266</th>\n",
       "      <td>s7295</td>\n",
       "      <td>Movie</td>\n",
       "      <td>Let There Be Light</td>\n",
       "      <td>John Huston</td>\n",
       "      <td>Walter Huston</td>\n",
       "      <td>United States</td>\n",
       "      <td>March 31, 2017</td>\n",
       "      <td>1946</td>\n",
       "      <td>TV-PG</td>\n",
       "      <td>58 min</td>\n",
       "      <td>Classic Movies, Documentaries</td>\n",
       "    </tr>\n",
       "    <tr>\n",
       "      <th>5177</th>\n",
       "      <td>s8588</td>\n",
       "      <td>Movie</td>\n",
       "      <td>Thunderbolt</td>\n",
       "      <td>William Wyler, John Sturges</td>\n",
       "      <td>James Stewart, Lloyd Bridges</td>\n",
       "      <td>United States</td>\n",
       "      <td>March 31, 2017</td>\n",
       "      <td>1947</td>\n",
       "      <td>TV-PG</td>\n",
       "      <td>42 min</td>\n",
       "      <td>Classic Movies, Documentaries</td>\n",
       "    </tr>\n",
       "    <tr>\n",
       "      <th>...</th>\n",
       "      <td>...</td>\n",
       "      <td>...</td>\n",
       "      <td>...</td>\n",
       "      <td>...</td>\n",
       "      <td>...</td>\n",
       "      <td>...</td>\n",
       "      <td>...</td>\n",
       "      <td>...</td>\n",
       "      <td>...</td>\n",
       "      <td>...</td>\n",
       "      <td>...</td>\n",
       "    </tr>\n",
       "    <tr>\n",
       "      <th>546</th>\n",
       "      <td>s1152</td>\n",
       "      <td>Movie</td>\n",
       "      <td>Octonauts &amp; the Ring of Fire</td>\n",
       "      <td>Blair Simmons</td>\n",
       "      <td>Simon Greenall, Rob Rackstraw, Jo Wyatt, Paul ...</td>\n",
       "      <td>China, United Kingdom</td>\n",
       "      <td>March 30, 2021</td>\n",
       "      <td>2021</td>\n",
       "      <td>TV-Y</td>\n",
       "      <td>73 min</td>\n",
       "      <td>Children &amp; Family Movies</td>\n",
       "    </tr>\n",
       "    <tr>\n",
       "      <th>389</th>\n",
       "      <td>s882</td>\n",
       "      <td>Movie</td>\n",
       "      <td>I Am All Girls</td>\n",
       "      <td>Donovan Marsh</td>\n",
       "      <td>Erica Wessels, Hlubi Mboya, Deon Lotz, Brendon...</td>\n",
       "      <td>South Africa</td>\n",
       "      <td>May 14, 2021</td>\n",
       "      <td>2021</td>\n",
       "      <td>TV-MA</td>\n",
       "      <td>107 min</td>\n",
       "      <td>Dramas, International Movies, Thrillers</td>\n",
       "    </tr>\n",
       "    <tr>\n",
       "      <th>549</th>\n",
       "      <td>s1157</td>\n",
       "      <td>Movie</td>\n",
       "      <td>A Week Away</td>\n",
       "      <td>Roman White</td>\n",
       "      <td>Kevin Quinn, Bailee Madison, Jahbril Cook, Kat...</td>\n",
       "      <td>United States</td>\n",
       "      <td>March 26, 2021</td>\n",
       "      <td>2021</td>\n",
       "      <td>TV-PG</td>\n",
       "      <td>98 min</td>\n",
       "      <td>Children &amp; Family Movies, Faith &amp; Spirituality...</td>\n",
       "    </tr>\n",
       "    <tr>\n",
       "      <th>692</th>\n",
       "      <td>s1413</td>\n",
       "      <td>Movie</td>\n",
       "      <td>Wish You</td>\n",
       "      <td>Sung Do-jun</td>\n",
       "      <td>Kang In-soo, Lee Sang, Soo-bin</td>\n",
       "      <td>South Korea</td>\n",
       "      <td>January 15, 2021</td>\n",
       "      <td>2021</td>\n",
       "      <td>TV-PG</td>\n",
       "      <td>102 min</td>\n",
       "      <td>Dramas, International Movies, LGBTQ Movies</td>\n",
       "    </tr>\n",
       "    <tr>\n",
       "      <th>628</th>\n",
       "      <td>s1305</td>\n",
       "      <td>Movie</td>\n",
       "      <td>Animals on the Loose: A You vs. Wild Movie</td>\n",
       "      <td>Ben Simms</td>\n",
       "      <td>Bear Grylls</td>\n",
       "      <td>United States</td>\n",
       "      <td>February 16, 2021</td>\n",
       "      <td>2021</td>\n",
       "      <td>TV-PG</td>\n",
       "      <td>139 min</td>\n",
       "      <td>Children &amp; Family Movies</td>\n",
       "    </tr>\n",
       "  </tbody>\n",
       "</table>\n",
       "<p>5332 rows × 11 columns</p>\n",
       "</div>"
      ],
      "text/plain": [
       "     Show ID   Type                                       Title  \\\n",
       "4901   s8206  Movie                        The Battle of Midway   \n",
       "5214   s8641  Movie                            Tunisian Victory   \n",
       "4220   s7220  Movie                     Know Your Enemy - Japan   \n",
       "4266   s7295  Movie                          Let There Be Light   \n",
       "5177   s8588  Movie                                 Thunderbolt   \n",
       "...      ...    ...                                         ...   \n",
       "546    s1152  Movie                Octonauts & the Ring of Fire   \n",
       "389     s882  Movie                              I Am All Girls   \n",
       "549    s1157  Movie                                 A Week Away   \n",
       "692    s1413  Movie                                    Wish You   \n",
       "628    s1305  Movie  Animals on the Loose: A You vs. Wild Movie   \n",
       "\n",
       "                                               Director  \\\n",
       "4901                                          John Ford   \n",
       "5214  Frank Capra, John Huston, Hugh Stewart, Roy Bo...   \n",
       "4220                           Frank Capra, Joris Ivens   \n",
       "4266                                        John Huston   \n",
       "5177                        William Wyler, John Sturges   \n",
       "...                                                 ...   \n",
       "546                                       Blair Simmons   \n",
       "389                                       Donovan Marsh   \n",
       "549                                         Roman White   \n",
       "692                                         Sung Do-jun   \n",
       "628                                           Ben Simms   \n",
       "\n",
       "                                                   Cast  \\\n",
       "4901                          Henry Fonda, Jane Darwell   \n",
       "5214                                   Burgess Meredith   \n",
       "4220                        Walter Huston, Dana Andrews   \n",
       "4266                                      Walter Huston   \n",
       "5177                       James Stewart, Lloyd Bridges   \n",
       "...                                                 ...   \n",
       "546   Simon Greenall, Rob Rackstraw, Jo Wyatt, Paul ...   \n",
       "389   Erica Wessels, Hlubi Mboya, Deon Lotz, Brendon...   \n",
       "549   Kevin Quinn, Bailee Madison, Jahbril Cook, Kat...   \n",
       "692                      Kang In-soo, Lee Sang, Soo-bin   \n",
       "628                                         Bear Grylls   \n",
       "\n",
       "                            Country         Date Added  Release Year Rating  \\\n",
       "4901                  United States     March 31, 2017          1942  TV-14   \n",
       "5214  United States, United Kingdom     March 31, 2017          1944  TV-14   \n",
       "4220                  United States     March 31, 2017          1945  TV-14   \n",
       "4266                  United States     March 31, 2017          1946  TV-PG   \n",
       "5177                  United States     March 31, 2017          1947  TV-PG   \n",
       "...                             ...                ...           ...    ...   \n",
       "546           China, United Kingdom     March 30, 2021          2021   TV-Y   \n",
       "389                    South Africa       May 14, 2021          2021  TV-MA   \n",
       "549                   United States     March 26, 2021          2021  TV-PG   \n",
       "692                     South Korea   January 15, 2021          2021  TV-PG   \n",
       "628                   United States  February 16, 2021          2021  TV-PG   \n",
       "\n",
       "     Duration                                              Genre  \n",
       "4901   18 min                      Classic Movies, Documentaries  \n",
       "5214   76 min                      Classic Movies, Documentaries  \n",
       "4220   63 min                      Classic Movies, Documentaries  \n",
       "4266   58 min                      Classic Movies, Documentaries  \n",
       "5177   42 min                      Classic Movies, Documentaries  \n",
       "...       ...                                                ...  \n",
       "546    73 min                           Children & Family Movies  \n",
       "389   107 min            Dramas, International Movies, Thrillers  \n",
       "549    98 min  Children & Family Movies, Faith & Spirituality...  \n",
       "692   102 min         Dramas, International Movies, LGBTQ Movies  \n",
       "628   139 min                           Children & Family Movies  \n",
       "\n",
       "[5332 rows x 11 columns]"
      ]
     },
     "execution_count": 4,
     "metadata": {},
     "output_type": "execute_result"
    }
   ],
   "source": [
    "ds_clean = (\n",
    "    ds.dropna()\n",
    "    .rename( columns = {\"show_id\": \"Show ID\", \"type\": \"Type\", \"title\": \"Title\", \"director\": \"Director\", \"cast\": \"Cast\", \"country\": \"Country\", \"date_added\": \"Date Added\", \"release_year\": \"Release Year\",\n",
    "                       \"rating\": \"Rating\", \"duration\": \"Duration\", \"listed_in\": \"Genre\"})\n",
    "    .reset_index(drop = True)\n",
    "    .drop( [\"description\"], axis = 1)\n",
    "    .sort_values( by = \"Release Year\", ascending = True) )\n",
    "ds_clean"
   ]
  },
  {
   "cell_type": "markdown",
   "metadata": {},
   "source": [
    "# Method Chaining"
   ]
  },
  {
   "cell_type": "markdown",
   "metadata": {},
   "source": [
    "Using the function load_and_process which automates the analysis pipeline process."
   ]
  },
  {
   "cell_type": "code",
   "execution_count": 6,
   "metadata": {},
   "outputs": [
    {
     "data": {
      "text/html": [
       "<div>\n",
       "<style scoped>\n",
       "    .dataframe tbody tr th:only-of-type {\n",
       "        vertical-align: middle;\n",
       "    }\n",
       "\n",
       "    .dataframe tbody tr th {\n",
       "        vertical-align: top;\n",
       "    }\n",
       "\n",
       "    .dataframe thead th {\n",
       "        text-align: right;\n",
       "    }\n",
       "</style>\n",
       "<table border=\"1\" class=\"dataframe\">\n",
       "  <thead>\n",
       "    <tr style=\"text-align: right;\">\n",
       "      <th></th>\n",
       "      <th>Show ID</th>\n",
       "      <th>Type</th>\n",
       "      <th>Title</th>\n",
       "      <th>Director</th>\n",
       "      <th>Cast</th>\n",
       "      <th>Country</th>\n",
       "      <th>Date Added</th>\n",
       "      <th>Release Year</th>\n",
       "      <th>Rating</th>\n",
       "      <th>Duration</th>\n",
       "      <th>Genre</th>\n",
       "    </tr>\n",
       "  </thead>\n",
       "  <tbody>\n",
       "    <tr>\n",
       "      <th>4901</th>\n",
       "      <td>s8206</td>\n",
       "      <td>Movie</td>\n",
       "      <td>The Battle of Midway</td>\n",
       "      <td>John Ford</td>\n",
       "      <td>Henry Fonda, Jane Darwell</td>\n",
       "      <td>United States</td>\n",
       "      <td>March 31, 2017</td>\n",
       "      <td>1942</td>\n",
       "      <td>TV-14</td>\n",
       "      <td>18 min</td>\n",
       "      <td>Classic Movies, Documentaries</td>\n",
       "    </tr>\n",
       "    <tr>\n",
       "      <th>5214</th>\n",
       "      <td>s8641</td>\n",
       "      <td>Movie</td>\n",
       "      <td>Tunisian Victory</td>\n",
       "      <td>Frank Capra, John Huston, Hugh Stewart, Roy Bo...</td>\n",
       "      <td>Burgess Meredith</td>\n",
       "      <td>United States, United Kingdom</td>\n",
       "      <td>March 31, 2017</td>\n",
       "      <td>1944</td>\n",
       "      <td>TV-14</td>\n",
       "      <td>76 min</td>\n",
       "      <td>Classic Movies, Documentaries</td>\n",
       "    </tr>\n",
       "    <tr>\n",
       "      <th>4220</th>\n",
       "      <td>s7220</td>\n",
       "      <td>Movie</td>\n",
       "      <td>Know Your Enemy - Japan</td>\n",
       "      <td>Frank Capra, Joris Ivens</td>\n",
       "      <td>Walter Huston, Dana Andrews</td>\n",
       "      <td>United States</td>\n",
       "      <td>March 31, 2017</td>\n",
       "      <td>1945</td>\n",
       "      <td>TV-14</td>\n",
       "      <td>63 min</td>\n",
       "      <td>Classic Movies, Documentaries</td>\n",
       "    </tr>\n",
       "    <tr>\n",
       "      <th>4266</th>\n",
       "      <td>s7295</td>\n",
       "      <td>Movie</td>\n",
       "      <td>Let There Be Light</td>\n",
       "      <td>John Huston</td>\n",
       "      <td>Walter Huston</td>\n",
       "      <td>United States</td>\n",
       "      <td>March 31, 2017</td>\n",
       "      <td>1946</td>\n",
       "      <td>TV-PG</td>\n",
       "      <td>58 min</td>\n",
       "      <td>Classic Movies, Documentaries</td>\n",
       "    </tr>\n",
       "    <tr>\n",
       "      <th>5177</th>\n",
       "      <td>s8588</td>\n",
       "      <td>Movie</td>\n",
       "      <td>Thunderbolt</td>\n",
       "      <td>William Wyler, John Sturges</td>\n",
       "      <td>James Stewart, Lloyd Bridges</td>\n",
       "      <td>United States</td>\n",
       "      <td>March 31, 2017</td>\n",
       "      <td>1947</td>\n",
       "      <td>TV-PG</td>\n",
       "      <td>42 min</td>\n",
       "      <td>Classic Movies, Documentaries</td>\n",
       "    </tr>\n",
       "    <tr>\n",
       "      <th>...</th>\n",
       "      <td>...</td>\n",
       "      <td>...</td>\n",
       "      <td>...</td>\n",
       "      <td>...</td>\n",
       "      <td>...</td>\n",
       "      <td>...</td>\n",
       "      <td>...</td>\n",
       "      <td>...</td>\n",
       "      <td>...</td>\n",
       "      <td>...</td>\n",
       "      <td>...</td>\n",
       "    </tr>\n",
       "    <tr>\n",
       "      <th>546</th>\n",
       "      <td>s1152</td>\n",
       "      <td>Movie</td>\n",
       "      <td>Octonauts &amp; the Ring of Fire</td>\n",
       "      <td>Blair Simmons</td>\n",
       "      <td>Simon Greenall, Rob Rackstraw, Jo Wyatt, Paul ...</td>\n",
       "      <td>China, United Kingdom</td>\n",
       "      <td>March 30, 2021</td>\n",
       "      <td>2021</td>\n",
       "      <td>TV-Y</td>\n",
       "      <td>73 min</td>\n",
       "      <td>Children &amp; Family Movies</td>\n",
       "    </tr>\n",
       "    <tr>\n",
       "      <th>389</th>\n",
       "      <td>s882</td>\n",
       "      <td>Movie</td>\n",
       "      <td>I Am All Girls</td>\n",
       "      <td>Donovan Marsh</td>\n",
       "      <td>Erica Wessels, Hlubi Mboya, Deon Lotz, Brendon...</td>\n",
       "      <td>South Africa</td>\n",
       "      <td>May 14, 2021</td>\n",
       "      <td>2021</td>\n",
       "      <td>TV-MA</td>\n",
       "      <td>107 min</td>\n",
       "      <td>Dramas, International Movies, Thrillers</td>\n",
       "    </tr>\n",
       "    <tr>\n",
       "      <th>549</th>\n",
       "      <td>s1157</td>\n",
       "      <td>Movie</td>\n",
       "      <td>A Week Away</td>\n",
       "      <td>Roman White</td>\n",
       "      <td>Kevin Quinn, Bailee Madison, Jahbril Cook, Kat...</td>\n",
       "      <td>United States</td>\n",
       "      <td>March 26, 2021</td>\n",
       "      <td>2021</td>\n",
       "      <td>TV-PG</td>\n",
       "      <td>98 min</td>\n",
       "      <td>Children &amp; Family Movies, Faith &amp; Spirituality...</td>\n",
       "    </tr>\n",
       "    <tr>\n",
       "      <th>692</th>\n",
       "      <td>s1413</td>\n",
       "      <td>Movie</td>\n",
       "      <td>Wish You</td>\n",
       "      <td>Sung Do-jun</td>\n",
       "      <td>Kang In-soo, Lee Sang, Soo-bin</td>\n",
       "      <td>South Korea</td>\n",
       "      <td>January 15, 2021</td>\n",
       "      <td>2021</td>\n",
       "      <td>TV-PG</td>\n",
       "      <td>102 min</td>\n",
       "      <td>Dramas, International Movies, LGBTQ Movies</td>\n",
       "    </tr>\n",
       "    <tr>\n",
       "      <th>628</th>\n",
       "      <td>s1305</td>\n",
       "      <td>Movie</td>\n",
       "      <td>Animals on the Loose: A You vs. Wild Movie</td>\n",
       "      <td>Ben Simms</td>\n",
       "      <td>Bear Grylls</td>\n",
       "      <td>United States</td>\n",
       "      <td>February 16, 2021</td>\n",
       "      <td>2021</td>\n",
       "      <td>TV-PG</td>\n",
       "      <td>139 min</td>\n",
       "      <td>Children &amp; Family Movies</td>\n",
       "    </tr>\n",
       "  </tbody>\n",
       "</table>\n",
       "<p>5332 rows × 11 columns</p>\n",
       "</div>"
      ],
      "text/plain": [
       "     Show ID   Type                                       Title  \\\n",
       "4901   s8206  Movie                        The Battle of Midway   \n",
       "5214   s8641  Movie                            Tunisian Victory   \n",
       "4220   s7220  Movie                     Know Your Enemy - Japan   \n",
       "4266   s7295  Movie                          Let There Be Light   \n",
       "5177   s8588  Movie                                 Thunderbolt   \n",
       "...      ...    ...                                         ...   \n",
       "546    s1152  Movie                Octonauts & the Ring of Fire   \n",
       "389     s882  Movie                              I Am All Girls   \n",
       "549    s1157  Movie                                 A Week Away   \n",
       "692    s1413  Movie                                    Wish You   \n",
       "628    s1305  Movie  Animals on the Loose: A You vs. Wild Movie   \n",
       "\n",
       "                                               Director  \\\n",
       "4901                                          John Ford   \n",
       "5214  Frank Capra, John Huston, Hugh Stewart, Roy Bo...   \n",
       "4220                           Frank Capra, Joris Ivens   \n",
       "4266                                        John Huston   \n",
       "5177                        William Wyler, John Sturges   \n",
       "...                                                 ...   \n",
       "546                                       Blair Simmons   \n",
       "389                                       Donovan Marsh   \n",
       "549                                         Roman White   \n",
       "692                                         Sung Do-jun   \n",
       "628                                           Ben Simms   \n",
       "\n",
       "                                                   Cast  \\\n",
       "4901                          Henry Fonda, Jane Darwell   \n",
       "5214                                   Burgess Meredith   \n",
       "4220                        Walter Huston, Dana Andrews   \n",
       "4266                                      Walter Huston   \n",
       "5177                       James Stewart, Lloyd Bridges   \n",
       "...                                                 ...   \n",
       "546   Simon Greenall, Rob Rackstraw, Jo Wyatt, Paul ...   \n",
       "389   Erica Wessels, Hlubi Mboya, Deon Lotz, Brendon...   \n",
       "549   Kevin Quinn, Bailee Madison, Jahbril Cook, Kat...   \n",
       "692                      Kang In-soo, Lee Sang, Soo-bin   \n",
       "628                                         Bear Grylls   \n",
       "\n",
       "                            Country         Date Added  Release Year Rating  \\\n",
       "4901                  United States     March 31, 2017          1942  TV-14   \n",
       "5214  United States, United Kingdom     March 31, 2017          1944  TV-14   \n",
       "4220                  United States     March 31, 2017          1945  TV-14   \n",
       "4266                  United States     March 31, 2017          1946  TV-PG   \n",
       "5177                  United States     March 31, 2017          1947  TV-PG   \n",
       "...                             ...                ...           ...    ...   \n",
       "546           China, United Kingdom     March 30, 2021          2021   TV-Y   \n",
       "389                    South Africa       May 14, 2021          2021  TV-MA   \n",
       "549                   United States     March 26, 2021          2021  TV-PG   \n",
       "692                     South Korea   January 15, 2021          2021  TV-PG   \n",
       "628                   United States  February 16, 2021          2021  TV-PG   \n",
       "\n",
       "     Duration                                              Genre  \n",
       "4901   18 min                      Classic Movies, Documentaries  \n",
       "5214   76 min                      Classic Movies, Documentaries  \n",
       "4220   63 min                      Classic Movies, Documentaries  \n",
       "4266   58 min                      Classic Movies, Documentaries  \n",
       "5177   42 min                      Classic Movies, Documentaries  \n",
       "...       ...                                                ...  \n",
       "546    73 min                           Children & Family Movies  \n",
       "389   107 min            Dramas, International Movies, Thrillers  \n",
       "549    98 min  Children & Family Movies, Faith & Spirituality...  \n",
       "692   102 min         Dramas, International Movies, LGBTQ Movies  \n",
       "628   139 min                           Children & Family Movies  \n",
       "\n",
       "[5332 rows x 11 columns]"
      ]
     },
     "execution_count": 6,
     "metadata": {},
     "output_type": "execute_result"
    }
   ],
   "source": [
    "from methods import project_functions\n",
    "df = project_functions.load_and_process(\"../data/raw/netflix_titles.csv\")\n",
    "df"
   ]
  },
  {
   "cell_type": "markdown",
   "metadata": {},
   "source": [
    "# Exploratory Data Analysis"
   ]
  },
  {
   "cell_type": "markdown",
   "metadata": {},
   "source": [
    "I will be using this as an opertunity to analyze the dataset and to basically compile their atrributes by using various visualization methods."
   ]
  },
  {
   "cell_type": "markdown",
   "metadata": {},
   "source": [
    "## TV Shows vs Movies"
   ]
  },
  {
   "cell_type": "code",
   "execution_count": 9,
   "metadata": {},
   "outputs": [
    {
     "data": {
      "text/plain": [
       "[Text(0.5, 1.0, 'TV Shows vs Movies')]"
      ]
     },
     "execution_count": 9,
     "metadata": {},
     "output_type": "execute_result"
    },
    {
     "data": {
      "image/png": "[encoded data removed]",
      "text/plain": [
       "<Figure size 360x432 with 1 Axes>"
      ]
     },
     "metadata": {
      "needs_background": "light"
     },
     "output_type": "display_data"
    }
   ],
   "source": [
    "plt.figure(figsize=(5,6))\n",
    "g1 = sns.countplot(x='Type',data=ds_clean)\n",
    "g1.set(title = 'TV Shows vs Movies')"
   ]
  },
  {
   "cell_type": "markdown",
   "metadata": {},
   "source": [
    "Here you can see Netflix is a lot more movie oriented opposed to tv shows which clearly shows that it is tailored towards people that enjoy movies over tv shows."
   ]
  },
  {
   "cell_type": "markdown",
   "metadata": {},
   "source": [
    "## Release of Movie vs TV Shows Over Time"
   ]
  },
  {
   "cell_type": "markdown",
   "metadata": {},
   "source": [
    "After analyzing both graphs shown below, it is clear as day that one could say that Netflix is more tailored towards movie watchers over tv shows although that could take a turn over time considering their newly releases of 'Netflix Originals'."
   ]
  },
  {
   "cell_type": "markdown",
   "metadata": {},
   "source": [
    "### Release of Movies Over Time"
   ]
  },
  {
   "cell_type": "code",
   "execution_count": 17,
   "metadata": {},
   "outputs": [
    {
     "data": {
      "text/plain": [
       "[Text(0.5, 1.0, 'Release of Movies Over Time')]"
      ]
     },
     "execution_count": 17,
     "metadata": {},
     "output_type": "execute_result"
    },
    {
     "data": {
      "image/png": "[encoded data removed]",
      "text/plain": [
       "<Figure size 1224x504 with 1 Axes>"
      ]
     },
     "metadata": {},
     "output_type": "display_data"
    }
   ],
   "source": [
    "time_graph = ds_clean.loc[(ds_clean['Release Year'] >= 1997)]\n",
    "time_graph2 = time_graph.loc[(ds_clean['Type'] == 'Movie')]\n",
    "plt.figure(figsize=(17,7))\n",
    "sns.set(font_scale = 1)\n",
    "g2=sns.countplot(x='Release Year', data=time_graph2)\n",
    "g2.set(title = 'Release of Movies Over Time')"
   ]
  },
  {
   "cell_type": "markdown",
   "metadata": {},
   "source": [
    "From the year 1997 when Netflix launched, you can cleary see the gradual increase of movies that were added in the most recent years with the exception of the year 2021 as it is incomplete."
   ]
  },
  {
   "cell_type": "markdown",
   "metadata": {},
   "source": [
    "### Release of TV Shows Over Time"
   ]
  },
  {
   "cell_type": "code",
   "execution_count": 18,
   "metadata": {},
   "outputs": [
    {
     "data": {
      "text/plain": [
       "[Text(0.5, 1.0, 'Release of TV Shows Over Time')]"
      ]
     },
     "execution_count": 18,
     "metadata": {},
     "output_type": "execute_result"
    },
    {
     "data": {
      "image/png": "[encoded data removed]",
      "text/plain": [
       "<Figure size 1224x504 with 1 Axes>"
      ]
     },
     "metadata": {},
     "output_type": "display_data"
    }
   ],
   "source": [
    "time_graph = ds_clean.loc[(ds_clean['Release Year'] >= 1997)]\n",
    "time_graph2 = time_graph.loc[(ds_clean['Type'] == 'TV Show')]\n",
    "plt.figure(figsize=(17,7))\n",
    "sns.set(font_scale = 1)\n",
    "#y = [0, 100, 200, 300, 400, 500, 600]\n",
    "#time_graph2.set_yticks(600)\n",
    "#time_graph2.set_yticklabels(Count)\n",
    "#time_graph2.set(ylim=(0, 600))\n",
    "plt.ylim(0, 600)\n",
    "g3=sns.countplot(x='Release Year', data=time_graph2)\n",
    "g3.set(title = 'Release of TV Shows Over Time')"
   ]
  },
  {
   "cell_type": "markdown",
   "metadata": {},
   "source": [
    "From this graph, you can see that Netflix shows a slight trend in adding more and more tv shows, although that number is no where near the number of movies they added in those years."
   ]
  },
  {
   "cell_type": "markdown",
   "metadata": {},
   "source": [
    "## Rating Comparisons"
   ]
  },
  {
   "cell_type": "code",
   "execution_count": 18,
   "metadata": {},
   "outputs": [
    {
     "data": {
      "text/plain": [
       "[Text(0.5, 1.0, 'Rating Comparisons')]"
      ]
     },
     "execution_count": 18,
     "metadata": {},
     "output_type": "execute_result"
    },
    {
     "data": {
      "image/png": "[encoded data removed]",
      "text/plain": [
       "<Figure size 1656x576 with 1 Axes>"
      ]
     },
     "metadata": {},
     "output_type": "display_data"
    }
   ],
   "source": [
    "plt.figure(figsize=(23,8))\n",
    "sns.set(font_scale = 1.5)\n",
    "g4=sns.countplot(x='Rating',data=ds_clean)\n",
    "g4.set(title = 'Rating Comparisons')"
   ]
  },
  {
   "cell_type": "markdown",
   "metadata": {},
   "source": [
    "Taking a look at this graph, it looks TV-MA is the most popular meaning that Netflix is most tailored for adults over the age of 17."
   ]
  }
 ],
 "metadata": {
  "kernelspec": {
   "display_name": "Python 3 (ipykernel)",
   "language": "python",
   "name": "python3"
  },
  "language_info": {
   "codemirror_mode": {
    "name": "ipython",
    "version": 3
   },
   "file_extension": ".py",
   "mimetype": "text/x-python",
   "name": "python",
   "nbconvert_exporter": "python",
   "pygments_lexer": "ipython3",
   "version": "3.9.5"
  }
 },
 "nbformat": 4,
 "nbformat_minor": 4
}
