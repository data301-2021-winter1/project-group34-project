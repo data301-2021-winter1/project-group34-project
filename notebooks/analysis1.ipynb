{
 "cells": [
  {
   "cell_type": "markdown",
   "metadata": {},
   "source": [
    "# Simrandeep Brar"
   ]
  },
  {
   "cell_type": "markdown",
   "metadata": {},
   "source": [
    "## Research question/interests\n",
    "My research question is to determine what show type (movie/tv show & pg/pg-13/mature) were the most popular during a certain time period yet to be decided. I'm researching this question because I wanna see if the content is more tailored towards adults or children. I'll be using multiple supplemental graphs to support my question. The graphs will be 1: Tv shows vs movies released during a time period. 2: The ratings of tv shows during that time. 3: The rating of movies during that time. 4: Comparing the ratings of the most popular tv shows vs the most popular ratings of movies. "
   ]
  },
  {
   "cell_type": "code",
   "execution_count": 3,
   "metadata": {},
   "outputs": [],
   "source": [
    "#Importing libraries \n",
    "import pandas as pd\n",
    "import seaborn as sns\n",
    "import numpy as np\n",
    "import matplotlib.pylab as plt\n",
    "\n",
    "netflixds = pd.read_csv(\"D:/School/Data301/project-group34-project/netflix_titles.csv\")\n",
    "\n"
   ]
  },
  {
   "cell_type": "markdown",
   "metadata": {},
   "source": [
    "## Data Analysis Pipeline \n"
   ]
  },
  {
   "cell_type": "markdown",
   "metadata": {},
   "source": [
    "##### The data analysis pipeline is used to clean up the dataset by removing all null values and also removing the Description column of the dataset as it wasn't needed for my research question."
   ]
  },
  {
   "cell_type": "code",
   "execution_count": 4,
   "metadata": {},
   "outputs": [
    {
     "data": {
      "text/html": [
       "<div>\n",
       "<style scoped>\n",
       "    .dataframe tbody tr th:only-of-type {\n",
       "        vertical-align: middle;\n",
       "    }\n",
       "\n",
       "    .dataframe tbody tr th {\n",
       "        vertical-align: top;\n",
       "    }\n",
       "\n",
       "    .dataframe thead th {\n",
       "        text-align: right;\n",
       "    }\n",
       "</style>\n",
       "<table border=\"1\" class=\"dataframe\">\n",
       "  <thead>\n",
       "    <tr style=\"text-align: right;\">\n",
       "      <th></th>\n",
       "      <th>Show ID</th>\n",
       "      <th>Type</th>\n",
       "      <th>Title</th>\n",
       "      <th>Director</th>\n",
       "      <th>Cast</th>\n",
       "      <th>Country</th>\n",
       "      <th>Date Added</th>\n",
       "      <th>Release Year</th>\n",
       "      <th>Rating</th>\n",
       "      <th>Duration</th>\n",
       "      <th>Genre</th>\n",
       "    </tr>\n",
       "  </thead>\n",
       "  <tbody>\n",
       "    <tr>\n",
       "      <th>4901</th>\n",
       "      <td>s8206</td>\n",
       "      <td>Movie</td>\n",
       "      <td>The Battle of Midway</td>\n",
       "      <td>John Ford</td>\n",
       "      <td>Henry Fonda, Jane Darwell</td>\n",
       "      <td>United States</td>\n",
       "      <td>March 31, 2017</td>\n",
       "      <td>1942</td>\n",
       "      <td>TV-14</td>\n",
       "      <td>18 min</td>\n",
       "      <td>Classic Movies, Documentaries</td>\n",
       "    </tr>\n",
       "    <tr>\n",
       "      <th>5214</th>\n",
       "      <td>s8641</td>\n",
       "      <td>Movie</td>\n",
       "      <td>Tunisian Victory</td>\n",
       "      <td>Frank Capra, John Huston, Hugh Stewart, Roy Bo...</td>\n",
       "      <td>Burgess Meredith</td>\n",
       "      <td>United States, United Kingdom</td>\n",
       "      <td>March 31, 2017</td>\n",
       "      <td>1944</td>\n",
       "      <td>TV-14</td>\n",
       "      <td>76 min</td>\n",
       "      <td>Classic Movies, Documentaries</td>\n",
       "    </tr>\n",
       "    <tr>\n",
       "      <th>4220</th>\n",
       "      <td>s7220</td>\n",
       "      <td>Movie</td>\n",
       "      <td>Know Your Enemy - Japan</td>\n",
       "      <td>Frank Capra, Joris Ivens</td>\n",
       "      <td>Walter Huston, Dana Andrews</td>\n",
       "      <td>United States</td>\n",
       "      <td>March 31, 2017</td>\n",
       "      <td>1945</td>\n",
       "      <td>TV-14</td>\n",
       "      <td>63 min</td>\n",
       "      <td>Classic Movies, Documentaries</td>\n",
       "    </tr>\n",
       "    <tr>\n",
       "      <th>4266</th>\n",
       "      <td>s7295</td>\n",
       "      <td>Movie</td>\n",
       "      <td>Let There Be Light</td>\n",
       "      <td>John Huston</td>\n",
       "      <td>Walter Huston</td>\n",
       "      <td>United States</td>\n",
       "      <td>March 31, 2017</td>\n",
       "      <td>1946</td>\n",
       "      <td>TV-PG</td>\n",
       "      <td>58 min</td>\n",
       "      <td>Classic Movies, Documentaries</td>\n",
       "    </tr>\n",
       "    <tr>\n",
       "      <th>5177</th>\n",
       "      <td>s8588</td>\n",
       "      <td>Movie</td>\n",
       "      <td>Thunderbolt</td>\n",
       "      <td>William Wyler, John Sturges</td>\n",
       "      <td>James Stewart, Lloyd Bridges</td>\n",
       "      <td>United States</td>\n",
       "      <td>March 31, 2017</td>\n",
       "      <td>1947</td>\n",
       "      <td>TV-PG</td>\n",
       "      <td>42 min</td>\n",
       "      <td>Classic Movies, Documentaries</td>\n",
       "    </tr>\n",
       "    <tr>\n",
       "      <th>...</th>\n",
       "      <td>...</td>\n",
       "      <td>...</td>\n",
       "      <td>...</td>\n",
       "      <td>...</td>\n",
       "      <td>...</td>\n",
       "      <td>...</td>\n",
       "      <td>...</td>\n",
       "      <td>...</td>\n",
       "      <td>...</td>\n",
       "      <td>...</td>\n",
       "      <td>...</td>\n",
       "    </tr>\n",
       "    <tr>\n",
       "      <th>546</th>\n",
       "      <td>s1152</td>\n",
       "      <td>Movie</td>\n",
       "      <td>Octonauts &amp; the Ring of Fire</td>\n",
       "      <td>Blair Simmons</td>\n",
       "      <td>Simon Greenall, Rob Rackstraw, Jo Wyatt, Paul ...</td>\n",
       "      <td>China, United Kingdom</td>\n",
       "      <td>March 30, 2021</td>\n",
       "      <td>2021</td>\n",
       "      <td>TV-Y</td>\n",
       "      <td>73 min</td>\n",
       "      <td>Children &amp; Family Movies</td>\n",
       "    </tr>\n",
       "    <tr>\n",
       "      <th>389</th>\n",
       "      <td>s882</td>\n",
       "      <td>Movie</td>\n",
       "      <td>I Am All Girls</td>\n",
       "      <td>Donovan Marsh</td>\n",
       "      <td>Erica Wessels, Hlubi Mboya, Deon Lotz, Brendon...</td>\n",
       "      <td>South Africa</td>\n",
       "      <td>May 14, 2021</td>\n",
       "      <td>2021</td>\n",
       "      <td>TV-MA</td>\n",
       "      <td>107 min</td>\n",
       "      <td>Dramas, International Movies, Thrillers</td>\n",
       "    </tr>\n",
       "    <tr>\n",
       "      <th>549</th>\n",
       "      <td>s1157</td>\n",
       "      <td>Movie</td>\n",
       "      <td>A Week Away</td>\n",
       "      <td>Roman White</td>\n",
       "      <td>Kevin Quinn, Bailee Madison, Jahbril Cook, Kat...</td>\n",
       "      <td>United States</td>\n",
       "      <td>March 26, 2021</td>\n",
       "      <td>2021</td>\n",
       "      <td>TV-PG</td>\n",
       "      <td>98 min</td>\n",
       "      <td>Children &amp; Family Movies, Faith &amp; Spirituality...</td>\n",
       "    </tr>\n",
       "    <tr>\n",
       "      <th>692</th>\n",
       "      <td>s1413</td>\n",
       "      <td>Movie</td>\n",
       "      <td>Wish You</td>\n",
       "      <td>Sung Do-jun</td>\n",
       "      <td>Kang In-soo, Lee Sang, Soo-bin</td>\n",
       "      <td>South Korea</td>\n",
       "      <td>January 15, 2021</td>\n",
       "      <td>2021</td>\n",
       "      <td>TV-PG</td>\n",
       "      <td>102 min</td>\n",
       "      <td>Dramas, International Movies, LGBTQ Movies</td>\n",
       "    </tr>\n",
       "    <tr>\n",
       "      <th>628</th>\n",
       "      <td>s1305</td>\n",
       "      <td>Movie</td>\n",
       "      <td>Animals on the Loose: A You vs. Wild Movie</td>\n",
       "      <td>Ben Simms</td>\n",
       "      <td>Bear Grylls</td>\n",
       "      <td>United States</td>\n",
       "      <td>February 16, 2021</td>\n",
       "      <td>2021</td>\n",
       "      <td>TV-PG</td>\n",
       "      <td>139 min</td>\n",
       "      <td>Children &amp; Family Movies</td>\n",
       "    </tr>\n",
       "  </tbody>\n",
       "</table>\n",
       "<p>5332 rows × 11 columns</p>\n",
       "</div>"
      ],
      "text/plain": [
       "     Show ID   Type                                       Title  \\\n",
       "4901   s8206  Movie                        The Battle of Midway   \n",
       "5214   s8641  Movie                            Tunisian Victory   \n",
       "4220   s7220  Movie                     Know Your Enemy - Japan   \n",
       "4266   s7295  Movie                          Let There Be Light   \n",
       "5177   s8588  Movie                                 Thunderbolt   \n",
       "...      ...    ...                                         ...   \n",
       "546    s1152  Movie                Octonauts & the Ring of Fire   \n",
       "389     s882  Movie                              I Am All Girls   \n",
       "549    s1157  Movie                                 A Week Away   \n",
       "692    s1413  Movie                                    Wish You   \n",
       "628    s1305  Movie  Animals on the Loose: A You vs. Wild Movie   \n",
       "\n",
       "                                               Director  \\\n",
       "4901                                          John Ford   \n",
       "5214  Frank Capra, John Huston, Hugh Stewart, Roy Bo...   \n",
       "4220                           Frank Capra, Joris Ivens   \n",
       "4266                                        John Huston   \n",
       "5177                        William Wyler, John Sturges   \n",
       "...                                                 ...   \n",
       "546                                       Blair Simmons   \n",
       "389                                       Donovan Marsh   \n",
       "549                                         Roman White   \n",
       "692                                         Sung Do-jun   \n",
       "628                                           Ben Simms   \n",
       "\n",
       "                                                   Cast  \\\n",
       "4901                          Henry Fonda, Jane Darwell   \n",
       "5214                                   Burgess Meredith   \n",
       "4220                        Walter Huston, Dana Andrews   \n",
       "4266                                      Walter Huston   \n",
       "5177                       James Stewart, Lloyd Bridges   \n",
       "...                                                 ...   \n",
       "546   Simon Greenall, Rob Rackstraw, Jo Wyatt, Paul ...   \n",
       "389   Erica Wessels, Hlubi Mboya, Deon Lotz, Brendon...   \n",
       "549   Kevin Quinn, Bailee Madison, Jahbril Cook, Kat...   \n",
       "692                      Kang In-soo, Lee Sang, Soo-bin   \n",
       "628                                         Bear Grylls   \n",
       "\n",
       "                            Country         Date Added  Release Year Rating  \\\n",
       "4901                  United States     March 31, 2017          1942  TV-14   \n",
       "5214  United States, United Kingdom     March 31, 2017          1944  TV-14   \n",
       "4220                  United States     March 31, 2017          1945  TV-14   \n",
       "4266                  United States     March 31, 2017          1946  TV-PG   \n",
       "5177                  United States     March 31, 2017          1947  TV-PG   \n",
       "...                             ...                ...           ...    ...   \n",
       "546           China, United Kingdom     March 30, 2021          2021   TV-Y   \n",
       "389                    South Africa       May 14, 2021          2021  TV-MA   \n",
       "549                   United States     March 26, 2021          2021  TV-PG   \n",
       "692                     South Korea   January 15, 2021          2021  TV-PG   \n",
       "628                   United States  February 16, 2021          2021  TV-PG   \n",
       "\n",
       "     Duration                                              Genre  \n",
       "4901   18 min                      Classic Movies, Documentaries  \n",
       "5214   76 min                      Classic Movies, Documentaries  \n",
       "4220   63 min                      Classic Movies, Documentaries  \n",
       "4266   58 min                      Classic Movies, Documentaries  \n",
       "5177   42 min                      Classic Movies, Documentaries  \n",
       "...       ...                                                ...  \n",
       "546    73 min                           Children & Family Movies  \n",
       "389   107 min            Dramas, International Movies, Thrillers  \n",
       "549    98 min  Children & Family Movies, Faith & Spirituality...  \n",
       "692   102 min         Dramas, International Movies, LGBTQ Movies  \n",
       "628   139 min                           Children & Family Movies  \n",
       "\n",
       "[5332 rows x 11 columns]"
      ]
     },
     "execution_count": 4,
     "metadata": {},
     "output_type": "execute_result"
    }
   ],
   "source": [
    "netflix_updated = (netflixds.dropna()\n",
    "             .reset_index(drop=True)\n",
    "             .rename(columns={\"listed_in\": \"Genre\", \"release_year\": \"Release Year\", \"type\": \"Type\"})\n",
    "             .rename(columns={\"title\": \"Title\", \"director\": \"Director\", \"cast\": \"Cast\"})\n",
    "             .rename(columns={\"show_id\": \"Show ID\", \"country\": \"Country\", \"date_added\": \"Date Added\"})\n",
    "             .rename(columns={\"rating\": \"Rating\", \"duration\": \"Duration\", \"description\": \"Description\"})\n",
    "             .drop([\"Description\"], axis = 1)\n",
    "             .sort_values(by = \"Release Year\", ascending = True)\n",
    "                  \n",
    ")\n",
    "\n",
    "netflix_updated"
   ]
  },
  {
   "cell_type": "markdown",
   "metadata": {},
   "source": [
    "## Method Chaining"
   ]
  },
  {
   "cell_type": "markdown",
   "metadata": {},
   "source": [
    "##### I'm using method chaining to help streamline the process and make it universal to most databases. Doing so is much for efficient and easier to read compared to creating a new method each time for each new database."
   ]
  },
  {
   "cell_type": "code",
   "execution_count": 5,
   "metadata": {},
   "outputs": [
    {
     "data": {
      "text/html": [
       "<div>\n",
       "<style scoped>\n",
       "    .dataframe tbody tr th:only-of-type {\n",
       "        vertical-align: middle;\n",
       "    }\n",
       "\n",
       "    .dataframe tbody tr th {\n",
       "        vertical-align: top;\n",
       "    }\n",
       "\n",
       "    .dataframe thead th {\n",
       "        text-align: right;\n",
       "    }\n",
       "</style>\n",
       "<table border=\"1\" class=\"dataframe\">\n",
       "  <thead>\n",
       "    <tr style=\"text-align: right;\">\n",
       "      <th></th>\n",
       "      <th>Show ID</th>\n",
       "      <th>Type</th>\n",
       "      <th>Title</th>\n",
       "      <th>Director</th>\n",
       "      <th>Cast</th>\n",
       "      <th>Country</th>\n",
       "      <th>Date Added</th>\n",
       "      <th>Release Year</th>\n",
       "      <th>Rating</th>\n",
       "      <th>Duration</th>\n",
       "      <th>Genre</th>\n",
       "    </tr>\n",
       "  </thead>\n",
       "  <tbody>\n",
       "    <tr>\n",
       "      <th>4901</th>\n",
       "      <td>s8206</td>\n",
       "      <td>Movie</td>\n",
       "      <td>The Battle of Midway</td>\n",
       "      <td>John Ford</td>\n",
       "      <td>Henry Fonda, Jane Darwell</td>\n",
       "      <td>United States</td>\n",
       "      <td>March 31, 2017</td>\n",
       "      <td>1942</td>\n",
       "      <td>TV-14</td>\n",
       "      <td>18 min</td>\n",
       "      <td>Classic Movies, Documentaries</td>\n",
       "    </tr>\n",
       "    <tr>\n",
       "      <th>5214</th>\n",
       "      <td>s8641</td>\n",
       "      <td>Movie</td>\n",
       "      <td>Tunisian Victory</td>\n",
       "      <td>Frank Capra, John Huston, Hugh Stewart, Roy Bo...</td>\n",
       "      <td>Burgess Meredith</td>\n",
       "      <td>United States, United Kingdom</td>\n",
       "      <td>March 31, 2017</td>\n",
       "      <td>1944</td>\n",
       "      <td>TV-14</td>\n",
       "      <td>76 min</td>\n",
       "      <td>Classic Movies, Documentaries</td>\n",
       "    </tr>\n",
       "    <tr>\n",
       "      <th>4220</th>\n",
       "      <td>s7220</td>\n",
       "      <td>Movie</td>\n",
       "      <td>Know Your Enemy - Japan</td>\n",
       "      <td>Frank Capra, Joris Ivens</td>\n",
       "      <td>Walter Huston, Dana Andrews</td>\n",
       "      <td>United States</td>\n",
       "      <td>March 31, 2017</td>\n",
       "      <td>1945</td>\n",
       "      <td>TV-14</td>\n",
       "      <td>63 min</td>\n",
       "      <td>Classic Movies, Documentaries</td>\n",
       "    </tr>\n",
       "    <tr>\n",
       "      <th>4266</th>\n",
       "      <td>s7295</td>\n",
       "      <td>Movie</td>\n",
       "      <td>Let There Be Light</td>\n",
       "      <td>John Huston</td>\n",
       "      <td>Walter Huston</td>\n",
       "      <td>United States</td>\n",
       "      <td>March 31, 2017</td>\n",
       "      <td>1946</td>\n",
       "      <td>TV-PG</td>\n",
       "      <td>58 min</td>\n",
       "      <td>Classic Movies, Documentaries</td>\n",
       "    </tr>\n",
       "    <tr>\n",
       "      <th>5177</th>\n",
       "      <td>s8588</td>\n",
       "      <td>Movie</td>\n",
       "      <td>Thunderbolt</td>\n",
       "      <td>William Wyler, John Sturges</td>\n",
       "      <td>James Stewart, Lloyd Bridges</td>\n",
       "      <td>United States</td>\n",
       "      <td>March 31, 2017</td>\n",
       "      <td>1947</td>\n",
       "      <td>TV-PG</td>\n",
       "      <td>42 min</td>\n",
       "      <td>Classic Movies, Documentaries</td>\n",
       "    </tr>\n",
       "    <tr>\n",
       "      <th>...</th>\n",
       "      <td>...</td>\n",
       "      <td>...</td>\n",
       "      <td>...</td>\n",
       "      <td>...</td>\n",
       "      <td>...</td>\n",
       "      <td>...</td>\n",
       "      <td>...</td>\n",
       "      <td>...</td>\n",
       "      <td>...</td>\n",
       "      <td>...</td>\n",
       "      <td>...</td>\n",
       "    </tr>\n",
       "    <tr>\n",
       "      <th>546</th>\n",
       "      <td>s1152</td>\n",
       "      <td>Movie</td>\n",
       "      <td>Octonauts &amp; the Ring of Fire</td>\n",
       "      <td>Blair Simmons</td>\n",
       "      <td>Simon Greenall, Rob Rackstraw, Jo Wyatt, Paul ...</td>\n",
       "      <td>China, United Kingdom</td>\n",
       "      <td>March 30, 2021</td>\n",
       "      <td>2021</td>\n",
       "      <td>TV-Y</td>\n",
       "      <td>73 min</td>\n",
       "      <td>Children &amp; Family Movies</td>\n",
       "    </tr>\n",
       "    <tr>\n",
       "      <th>389</th>\n",
       "      <td>s882</td>\n",
       "      <td>Movie</td>\n",
       "      <td>I Am All Girls</td>\n",
       "      <td>Donovan Marsh</td>\n",
       "      <td>Erica Wessels, Hlubi Mboya, Deon Lotz, Brendon...</td>\n",
       "      <td>South Africa</td>\n",
       "      <td>May 14, 2021</td>\n",
       "      <td>2021</td>\n",
       "      <td>TV-MA</td>\n",
       "      <td>107 min</td>\n",
       "      <td>Dramas, International Movies, Thrillers</td>\n",
       "    </tr>\n",
       "    <tr>\n",
       "      <th>549</th>\n",
       "      <td>s1157</td>\n",
       "      <td>Movie</td>\n",
       "      <td>A Week Away</td>\n",
       "      <td>Roman White</td>\n",
       "      <td>Kevin Quinn, Bailee Madison, Jahbril Cook, Kat...</td>\n",
       "      <td>United States</td>\n",
       "      <td>March 26, 2021</td>\n",
       "      <td>2021</td>\n",
       "      <td>TV-PG</td>\n",
       "      <td>98 min</td>\n",
       "      <td>Children &amp; Family Movies, Faith &amp; Spirituality...</td>\n",
       "    </tr>\n",
       "    <tr>\n",
       "      <th>692</th>\n",
       "      <td>s1413</td>\n",
       "      <td>Movie</td>\n",
       "      <td>Wish You</td>\n",
       "      <td>Sung Do-jun</td>\n",
       "      <td>Kang In-soo, Lee Sang, Soo-bin</td>\n",
       "      <td>South Korea</td>\n",
       "      <td>January 15, 2021</td>\n",
       "      <td>2021</td>\n",
       "      <td>TV-PG</td>\n",
       "      <td>102 min</td>\n",
       "      <td>Dramas, International Movies, LGBTQ Movies</td>\n",
       "    </tr>\n",
       "    <tr>\n",
       "      <th>628</th>\n",
       "      <td>s1305</td>\n",
       "      <td>Movie</td>\n",
       "      <td>Animals on the Loose: A You vs. Wild Movie</td>\n",
       "      <td>Ben Simms</td>\n",
       "      <td>Bear Grylls</td>\n",
       "      <td>United States</td>\n",
       "      <td>February 16, 2021</td>\n",
       "      <td>2021</td>\n",
       "      <td>TV-PG</td>\n",
       "      <td>139 min</td>\n",
       "      <td>Children &amp; Family Movies</td>\n",
       "    </tr>\n",
       "  </tbody>\n",
       "</table>\n",
       "<p>5332 rows × 11 columns</p>\n",
       "</div>"
      ],
      "text/plain": [
       "     Show ID   Type                                       Title  \\\n",
       "4901   s8206  Movie                        The Battle of Midway   \n",
       "5214   s8641  Movie                            Tunisian Victory   \n",
       "4220   s7220  Movie                     Know Your Enemy - Japan   \n",
       "4266   s7295  Movie                          Let There Be Light   \n",
       "5177   s8588  Movie                                 Thunderbolt   \n",
       "...      ...    ...                                         ...   \n",
       "546    s1152  Movie                Octonauts & the Ring of Fire   \n",
       "389     s882  Movie                              I Am All Girls   \n",
       "549    s1157  Movie                                 A Week Away   \n",
       "692    s1413  Movie                                    Wish You   \n",
       "628    s1305  Movie  Animals on the Loose: A You vs. Wild Movie   \n",
       "\n",
       "                                               Director  \\\n",
       "4901                                          John Ford   \n",
       "5214  Frank Capra, John Huston, Hugh Stewart, Roy Bo...   \n",
       "4220                           Frank Capra, Joris Ivens   \n",
       "4266                                        John Huston   \n",
       "5177                        William Wyler, John Sturges   \n",
       "...                                                 ...   \n",
       "546                                       Blair Simmons   \n",
       "389                                       Donovan Marsh   \n",
       "549                                         Roman White   \n",
       "692                                         Sung Do-jun   \n",
       "628                                           Ben Simms   \n",
       "\n",
       "                                                   Cast  \\\n",
       "4901                          Henry Fonda, Jane Darwell   \n",
       "5214                                   Burgess Meredith   \n",
       "4220                        Walter Huston, Dana Andrews   \n",
       "4266                                      Walter Huston   \n",
       "5177                       James Stewart, Lloyd Bridges   \n",
       "...                                                 ...   \n",
       "546   Simon Greenall, Rob Rackstraw, Jo Wyatt, Paul ...   \n",
       "389   Erica Wessels, Hlubi Mboya, Deon Lotz, Brendon...   \n",
       "549   Kevin Quinn, Bailee Madison, Jahbril Cook, Kat...   \n",
       "692                      Kang In-soo, Lee Sang, Soo-bin   \n",
       "628                                         Bear Grylls   \n",
       "\n",
       "                            Country         Date Added  Release Year Rating  \\\n",
       "4901                  United States     March 31, 2017          1942  TV-14   \n",
       "5214  United States, United Kingdom     March 31, 2017          1944  TV-14   \n",
       "4220                  United States     March 31, 2017          1945  TV-14   \n",
       "4266                  United States     March 31, 2017          1946  TV-PG   \n",
       "5177                  United States     March 31, 2017          1947  TV-PG   \n",
       "...                             ...                ...           ...    ...   \n",
       "546           China, United Kingdom     March 30, 2021          2021   TV-Y   \n",
       "389                    South Africa       May 14, 2021          2021  TV-MA   \n",
       "549                   United States     March 26, 2021          2021  TV-PG   \n",
       "692                     South Korea   January 15, 2021          2021  TV-PG   \n",
       "628                   United States  February 16, 2021          2021  TV-PG   \n",
       "\n",
       "     Duration                                              Genre  \n",
       "4901   18 min                      Classic Movies, Documentaries  \n",
       "5214   76 min                      Classic Movies, Documentaries  \n",
       "4220   63 min                      Classic Movies, Documentaries  \n",
       "4266   58 min                      Classic Movies, Documentaries  \n",
       "5177   42 min                      Classic Movies, Documentaries  \n",
       "...       ...                                                ...  \n",
       "546    73 min                           Children & Family Movies  \n",
       "389   107 min            Dramas, International Movies, Thrillers  \n",
       "549    98 min  Children & Family Movies, Faith & Spirituality...  \n",
       "692   102 min         Dramas, International Movies, LGBTQ Movies  \n",
       "628   139 min                           Children & Family Movies  \n",
       "\n",
       "[5332 rows x 11 columns]"
      ]
     },
     "execution_count": 5,
     "metadata": {},
     "output_type": "execute_result"
    }
   ],
   "source": [
    "from methods import project_functions\n",
    "df = project_functions.load_and_process(\"D:/School/Data301/project-group34-project/netflix_titles.csv\")\n",
    "df"
   ]
  },
  {
   "cell_type": "markdown",
   "metadata": {},
   "source": [
    "## Exploratory Data Analysis"
   ]
  },
  {
   "cell_type": "markdown",
   "metadata": {},
   "source": [
    "##### This EDA is to help me get a better understanding on my data set by getting some information and creating some graphs to visualize the data."
   ]
  },
  {
   "cell_type": "markdown",
   "metadata": {},
   "source": [
    "### Plot 1: The Quantity of Movies vs TV Shows on Netflix"
   ]
  },
  {
   "cell_type": "code",
   "execution_count": 18,
   "metadata": {
    "tags": []
   },
   "outputs": [
    {
     "data": {
      "image/png": "[encoded data removed]",
      "text/plain": [
       "<Figure size 1152x720 with 1 Axes>"
      ]
     },
     "metadata": {
      "needs_background": "light"
     },
     "output_type": "display_data"
    }
   ],
   "source": [
    "plt.figure(figsize=(16,10))\n",
    "graph1 = sns.countplot(x='Type',data=netflix_updated)"
   ]
  },
  {
   "cell_type": "markdown",
   "metadata": {},
   "source": [
    "#### Comments"
   ]
  },
  {
   "cell_type": "markdown",
   "metadata": {},
   "source": [
    "##### After viewing the plot above, it's quite obvious that there's a much larger volume of movies available for consumers on Netflix compared TV shows."
   ]
  },
  {
   "cell_type": "markdown",
   "metadata": {},
   "source": [
    "### Plot 2: Overall Movie Ratings on Netflix"
   ]
  },
  {
   "cell_type": "code",
   "execution_count": 15,
   "metadata": {},
   "outputs": [
    {
     "data": {
      "text/plain": [
       "<AxesSubplot:xlabel='Rating', ylabel='count'>"
      ]
     },
     "execution_count": 15,
     "metadata": {},
     "output_type": "execute_result"
    },
    {
     "data": {
      "image/png": "[encoded data removed]",
      "text/plain": [
       "<Figure size 1800x720 with 1 Axes>"
      ]
     },
     "metadata": {
      "needs_background": "light"
     },
     "output_type": "display_data"
    }
   ],
   "source": [
    "test = netflix_updated.loc[(netflix_updated['Type'] == 'Movie')]\n",
    "plt.figure(figsize=(25,10))\n",
    "plt.ylim(0, 1800)\n",
    "sns.countplot(x='Rating', data=test)"
   ]
  },
  {
   "cell_type": "markdown",
   "metadata": {},
   "source": [
    "### Plot 3: Overall TV Show Ratings on Netflix"
   ]
  },
  {
   "cell_type": "code",
   "execution_count": 8,
   "metadata": {},
   "outputs": [
    {
     "data": {
      "text/plain": [
       "<AxesSubplot:xlabel='Rating', ylabel='count'>"
      ]
     },
     "execution_count": 8,
     "metadata": {},
     "output_type": "execute_result"
    },
    {
     "data": {
      "image/png": "[encoded data removed]",
      "text/plain": [
       "<Figure size 1800x720 with 1 Axes>"
      ]
     },
     "metadata": {
      "needs_background": "light"
     },
     "output_type": "display_data"
    }
   ],
   "source": [
    "test2 = netflix_updated.loc[(netflix_updated['Type'] == 'TV Show')]\n",
    "plt.figure(figsize=(25,10))\n",
    "plt.ylim(0, 1800)\n",
    "sns.countplot(x='Rating', data=test2)"
   ]
  },
  {
   "cell_type": "markdown",
   "metadata": {},
   "source": [
    "#### Comments"
   ]
  },
  {
   "cell_type": "markdown",
   "metadata": {},
   "source": [
    "##### After examining both plots above, we can determine that there's a much larger volume of TV-MA rated content available on Netflix in terms of both films and TV shows. Although this data doesn't conclusively prove that TV-MA content is the most popular on Netflix, it could be inferred that this content is more widely available due to its popularity."
   ]
  },
  {
   "cell_type": "markdown",
   "metadata": {},
   "source": [
    "### Plot 4: TV-MA TV Show Quantities vs TV-MA Movie Quantities on Netflix"
   ]
  },
  {
   "cell_type": "code",
   "execution_count": 11,
   "metadata": {},
   "outputs": [
    {
     "data": {
      "text/plain": [
       "<AxesSubplot:xlabel='Type'>"
      ]
     },
     "execution_count": 11,
     "metadata": {},
     "output_type": "execute_result"
    },
    {
     "data": {
      "image/png": "[encoded data removed]",
      "text/plain": [
       "<Figure size 432x288 with 1 Axes>"
      ]
     },
     "metadata": {
      "needs_background": "light"
     },
     "output_type": "display_data"
    }
   ],
   "source": [
    "filter1 = netflix_updated.loc[(netflix_updated['Rating'] == 'TV-MA')] \n",
    "graph2=filter1.groupby(['Type','Rating']).size() \n",
    "graph2=graph2.unstack() \n",
    "graph2.plot(kind='bar')"
   ]
  },
  {
   "cell_type": "markdown",
   "metadata": {},
   "source": [
    "#### Comments"
   ]
  },
  {
   "cell_type": "markdown",
   "metadata": {},
   "source": [
    "##### As can be seen from the prior plots, as well as the graph above, TV-MA rated movies and significantly more common on netflix compared to TV-MA rated TV shows."
   ]
  },
  {
   "cell_type": "code",
   "execution_count": null,
   "metadata": {},
   "outputs": [],
   "source": []
  }
 ],
 "metadata": {
  "kernelspec": {
   "display_name": "Python 3 (ipykernel)",
   "language": "python",
   "name": "python3"
  },
  "language_info": {
   "codemirror_mode": {
    "name": "ipython",
    "version": 3
   },
   "file_extension": ".py",
   "mimetype": "text/x-python",
   "name": "python",
   "nbconvert_exporter": "python",
   "pygments_lexer": "ipython3",
   "version": "3.9.5"
  }
 },
 "nbformat": 4,
 "nbformat_minor": 4
}
